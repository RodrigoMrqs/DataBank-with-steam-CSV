{
 "cells": [
  {
   "cell_type": "code",
   "execution_count": 11,
   "id": "352bfdae",
   "metadata": {},
   "outputs": [],
   "source": [
    "import pandas as pd\n",
    "import seaborn as sns\n",
    "import matplotlib.pyplot as plt"
   ]
  },
  {
   "cell_type": "code",
   "execution_count": 12,
   "id": "85813507",
   "metadata": {},
   "outputs": [],
   "source": [
    "df = pd.read_csv('games.csv')\n"
   ]
  },
  {
   "cell_type": "code",
   "execution_count": null,
   "id": "8412c01c",
   "metadata": {},
   "outputs": [
    {
     "name": "stdout",
     "output_type": "stream",
     "text": [
      "<class 'pandas.core.frame.DataFrame'>\n",
      "RangeIndex: 111452 entries, 0 to 111451\n",
      "Data columns (total 40 columns):\n",
      " #   Column                      Non-Null Count   Dtype  \n",
      "---  ------                      --------------   -----  \n",
      " 0   app_id                      111452 non-null  int64  \n",
      " 1   name                        111446 non-null  object \n",
      " 2   release_date                111452 non-null  object \n",
      " 3   estimated_owners            111452 non-null  object \n",
      " 4   peak_ccu                    111452 non-null  int64  \n",
      " 5   required_age                111452 non-null  int64  \n",
      " 6   price                       111452 non-null  float64\n",
      " 7   discount                    111452 non-null  int64  \n",
      " 8   dlc_count                   111452 non-null  int64  \n",
      " 9   about_the_game              104969 non-null  object \n",
      " 10  supported_languages         111452 non-null  object \n",
      " 11  full_audio_languages        111452 non-null  object \n",
      " 12  reviews                     10624 non-null   object \n",
      " 13  header_image                111452 non-null  object \n",
      " 14  website                     46458 non-null   object \n",
      " 15  support_url                 50759 non-null   object \n",
      " 16  support_email               92427 non-null   object \n",
      " 17  windows                     111452 non-null  bool   \n",
      " 18  mac                         111452 non-null  bool   \n",
      " 19  linux                       111452 non-null  bool   \n",
      " 20  metacritic_score            111452 non-null  int64  \n",
      " 21  metacritic_url              4005 non-null    object \n",
      " 22  user_score                  111452 non-null  int64  \n",
      " 23  positive                    111452 non-null  int64  \n",
      " 24  negative                    111452 non-null  int64  \n",
      " 25  score_rank                  44 non-null      float64\n",
      " 26  achievements                111452 non-null  int64  \n",
      " 27  recommendations             111452 non-null  int64  \n",
      " 28  notes                       18449 non-null   object \n",
      " 29  average_playtime_forever    111452 non-null  int64  \n",
      " 30  average_playtime_two_weeks  111452 non-null  int64  \n",
      " 31  median_playtime_forever     111452 non-null  int64  \n",
      " 32  median_playtime_two_weeks   111452 non-null  int64  \n",
      " 33  developers                  104977 non-null  object \n",
      " 34  publishers                  104674 non-null  object \n",
      " 35  categories                  103886 non-null  object \n",
      " 36  genres                      105012 non-null  object \n",
      " 37  tags                        74029 non-null   object \n",
      " 38  screenshots                 107260 non-null  object \n",
      " 39  movies                      101832 non-null  object \n",
      "dtypes: bool(3), float64(2), int64(15), object(20)\n",
      "memory usage: 31.8+ MB\n"
     ]
    }
   ],
   "source": [
    "df.info()"
   ]
  },
  {
   "cell_type": "code",
   "execution_count": 14,
   "id": "d2bddbca",
   "metadata": {},
   "outputs": [
    {
     "data": {
      "text/plain": [
       "app_id                             0\n",
       "name                               6\n",
       "release_date                       0\n",
       "estimated_owners                   0\n",
       "peak_ccu                           0\n",
       "required_age                       0\n",
       "price                              0\n",
       "discount                           0\n",
       "dlc_count                          0\n",
       "about_the_game                  6483\n",
       "supported_languages                0\n",
       "full_audio_languages               0\n",
       "reviews                       100828\n",
       "header_image                       0\n",
       "website                        64994\n",
       "support_url                    60693\n",
       "support_email                  19025\n",
       "windows                            0\n",
       "mac                                0\n",
       "linux                              0\n",
       "metacritic_score                   0\n",
       "metacritic_url                107447\n",
       "user_score                         0\n",
       "positive                           0\n",
       "negative                           0\n",
       "score_rank                    111408\n",
       "achievements                       0\n",
       "recommendations                    0\n",
       "notes                          93003\n",
       "average_playtime_forever           0\n",
       "average_playtime_two_weeks         0\n",
       "median_playtime_forever            0\n",
       "median_playtime_two_weeks          0\n",
       "developers                      6475\n",
       "publishers                      6778\n",
       "categories                      7566\n",
       "genres                          6440\n",
       "tags                           37423\n",
       "screenshots                     4192\n",
       "movies                          9620\n",
       "dtype: int64"
      ]
     },
     "execution_count": 14,
     "metadata": {},
     "output_type": "execute_result"
    }
   ],
   "source": [
    "df.isnull().sum()"
   ]
  },
  {
   "cell_type": "code",
   "execution_count": 15,
   "id": "17a37d22",
   "metadata": {},
   "outputs": [
    {
     "data": {
      "text/plain": [
       "0                                               ['English']\n",
       "1         ['English', 'French', 'Italian', 'German', 'Sp...\n",
       "2                        ['English', 'Portuguese - Brazil']\n",
       "3         ['English', 'French', 'Italian', 'German', 'Sp...\n",
       "4                            ['English', 'Spanish - Spain']\n",
       "                                ...                        \n",
       "111447                                          ['English']\n",
       "111448    ['English', 'French', 'Italian', 'German', 'Sp...\n",
       "111449    ['English', 'Russian', 'French', 'Italian', 'G...\n",
       "111450                                          ['English']\n",
       "111451                                          ['English']\n",
       "Name: supported_languages, Length: 111452, dtype: object"
      ]
     },
     "execution_count": 15,
     "metadata": {},
     "output_type": "execute_result"
    }
   ],
   "source": [
    "df['supported_languages']"
   ]
  },
  {
   "cell_type": "code",
   "execution_count": 18,
   "id": "dd03879b",
   "metadata": {},
   "outputs": [
    {
     "name": "stdout",
     "output_type": "stream",
     "text": [
      "Cleaning column: supported_languages\n",
      "Cleaning column: full_audio_languages\n",
      "Cleaning column: developers\n"
     ]
    },
    {
     "name": "stderr",
     "output_type": "stream",
     "text": [
      "<unknown>:1: SyntaxWarning: invalid decimal literal\n"
     ]
    },
    {
     "name": "stdout",
     "output_type": "stream",
     "text": [
      "Cleaning column: publishers\n"
     ]
    },
    {
     "name": "stderr",
     "output_type": "stream",
     "text": [
      "<unknown>:1: SyntaxWarning: invalid decimal literal\n"
     ]
    },
    {
     "name": "stdout",
     "output_type": "stream",
     "text": [
      "Cleaning column: categories\n",
      "Cleaning column: genres\n",
      "Cleaning column: tags\n",
      "Cleaning column: screenshots\n",
      "Cleaning column: movies\n",
      "Cleaned data saved to games_modificado.csv\n",
      "\n",
      "Sample of cleaned publishers:\n",
      "0    ['Perpetual FX Creative']\n",
      "1             ['Wild Rooster']\n",
      "2            ['Campião Games']\n",
      "3        ['Odd Critter Games']\n",
      "4            ['Unusual Games']\n",
      "Name: publishers, dtype: object\n",
      "\n",
      "Sample of cleaned developers:\n",
      "0    ['Perpetual FX Creative']\n",
      "1             ['Rusty Moyher']\n",
      "2            ['Campião Games']\n",
      "3        ['Odd Critter Games']\n",
      "4            ['Unusual Games']\n",
      "Name: developers, dtype: object\n",
      "\n",
      "Sample of cleaned supported_languages:\n",
      "0                                          ['English']\n",
      "1    ['English', 'French', 'Italian', 'German', 'Sp...\n",
      "2                   ['English', 'Portuguese - Brazil']\n",
      "3    ['English', 'French', 'Italian', 'German', 'Sp...\n",
      "4                       ['English', 'Spanish - Spain']\n",
      "Name: supported_languages, dtype: object\n"
     ]
    }
   ],
   "source": [
    "def clean_and_save_data(df):\n",
    "    def clean_list_column(value):\n",
    "        if pd.isna(value):\n",
    "            return []\n",
    "        \n",
    "        # If already a list\n",
    "        if isinstance(value, list):\n",
    "            return [str(item).strip() for item in value if str(item).strip()]\n",
    "        \n",
    "        try:\n",
    "            # Try to evaluate as literal Python expression\n",
    "            parsed = ast.literal_eval(str(value))\n",
    "            if isinstance(parsed, list):\n",
    "                return [str(item).strip() for item in parsed if str(item).strip()]\n",
    "            return [str(parsed).strip()]\n",
    "        except:\n",
    "            # Handle malformed strings\n",
    "            value_str = str(value)\n",
    "            # Remove common problematic characters\n",
    "            cleaned = value_str.strip('[]{}()').replace(\"'\", \"\").replace('\"', \"\")\n",
    "            # Split and clean items\n",
    "            items = [item.strip() for item in cleaned.split(',')]\n",
    "            # Filter out empty strings and return\n",
    "            return [item for item in items if item]\n",
    "\n",
    "    # Columns that need list cleaning\n",
    "    list_columns = [\n",
    "        'supported_languages',\n",
    "        'full_audio_languages',\n",
    "        'developers',    # Maintained as developers\n",
    "        'publishers',    # Maintained as publishers\n",
    "        'categories',\n",
    "        'genres',\n",
    "        'tags',\n",
    "        'screenshots',\n",
    "        'movies'\n",
    "    ]\n",
    "    \n",
    "    # Create a copy of the DataFrame\n",
    "    df_clean = df.copy()\n",
    "    \n",
    "    # Clean each list column\n",
    "    for col in list_columns:\n",
    "        if col in df_clean.columns:\n",
    "            print(f\"Cleaning column: {col}\")\n",
    "            # Convert the cleaned lists back to string representation\n",
    "            df_clean[col] = df_clean[col].apply(clean_list_column).apply(str)\n",
    "    \n",
    "    # Save to new CSV\n",
    "    output_path = 'games_modificado.csv'\n",
    "    df_clean.to_csv(output_path, index=False)\n",
    "    print(f\"Cleaned data saved to {output_path}\")\n",
    "    \n",
    "    return df_clean\n",
    "\n",
    "# Import required libraries\n",
    "import pandas as pd\n",
    "import ast\n",
    "\n",
    "# Load and clean data\n",
    "df = pd.read_csv('games.csv')\n",
    "df_clean = clean_and_save_data(df)\n",
    "\n",
    "# Verify cleaning results\n",
    "for col in ['publishers', 'developers', 'supported_languages']:\n",
    "    print(f\"\\nSample of cleaned {col}:\")\n",
    "    print(df_clean[col].head())\n",
    "    \n",
    "    # Check for potential remaining issues\n",
    "    problem_values = df_clean[\n",
    "        df_clean[col].apply(lambda x: 'ast.Name' in x or 'malformed' in x)\n",
    "    ]\n",
    "    if not problem_values.empty:\n",
    "        print(f\"\\nPotential remaining issues in {col}:\")\n",
    "        print(problem_values[col])"
   ]
  },
  {
   "cell_type": "code",
   "execution_count": null,
   "id": "8c62c32b",
   "metadata": {},
   "outputs": [
    {
     "data": {
      "text/plain": [
       "0         NaN\n",
       "1         NaN\n",
       "2         NaN\n",
       "3         NaN\n",
       "4         NaN\n",
       "         ... \n",
       "111447    NaN\n",
       "111448    NaN\n",
       "111449    NaN\n",
       "111450    NaN\n",
       "111451    NaN\n",
       "Name: reviews, Length: 111452, dtype: object"
      ]
     },
     "execution_count": 21,
     "metadata": {},
     "output_type": "execute_result"
    }
   ],
   "source": []
  },
  {
   "cell_type": "code",
   "execution_count": null,
   "id": "caf51402",
   "metadata": {},
   "outputs": [],
   "source": []
  }
 ],
 "metadata": {
  "kernelspec": {
   "display_name": "Python 3",
   "language": "python",
   "name": "python3"
  },
  "language_info": {
   "codemirror_mode": {
    "name": "ipython",
    "version": 3
   },
   "file_extension": ".py",
   "mimetype": "text/x-python",
   "name": "python",
   "nbconvert_exporter": "python",
   "pygments_lexer": "ipython3",
   "version": "3.13.3"
  }
 },
 "nbformat": 4,
 "nbformat_minor": 5
}
